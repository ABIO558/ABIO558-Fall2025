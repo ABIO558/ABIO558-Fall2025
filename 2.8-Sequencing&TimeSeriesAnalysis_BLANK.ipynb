{
 "cells": [
  {
   "cell_type": "markdown",
   "id": "47f50eae-6f41-4b28-9488-b72c216aab4d",
   "metadata": {},
   "source": [
    "# 2.8- Sequencing data and time series analysis\n",
    "\n",
    "### Learning goals for today\n",
    "1. Load, visualize and understand RNA sequencing data\n",
    "2. Annotating scRNAseq data using marker genes\n",
    "3. Bonus: Analyzing time series data\n",
    "\n",
    "---\n",
    "### How to use this notebook during class\n",
    "- Follow along as we go\n",
    "- Use your **Cards** to indicate where you're at:\n",
    "    - A **🟩Green card** means you are caught up with Max and **ready to help your classmates**\n",
    "    - A **🟥Red card** means you are stuck and need help\n",
    "- <span style='color:red;'>EXERCISE</span> — work on this problem by yourself, or try with a partner if you get stuck\n",
    "---\n"
   ]
  },
  {
   "cell_type": "markdown",
   "id": "920cdde1-1041-4586-9de2-ccbc817e89ea",
   "metadata": {},
   "source": [
    "First let's import some libraries we will use today. Remember if you don't have a library installed you can pip install it with:\n",
    "\n",
    "%pip install *package_name*"
   ]
  },
  {
   "cell_type": "markdown",
   "id": "4dff8d9b-668a-4f40-903a-b80c2be5d8e0",
   "metadata": {},
   "source": [
    "## 1) scRNAseq data - looking at it\n",
    "\n",
    "Download `tags.csv` and `ct.csv` from brightspace or the course github\n",
    "\n",
    "Data originally from: https://www.pnas.org/doi/full/10.1073/pnas.1507125112\n",
    "\n"
   ]
  },
  {
   "cell_type": "code",
   "execution_count": null,
   "id": "4313a671-14e0-4e92-88a2-af86cdf50935",
   "metadata": {
    "scrolled": true
   },
   "outputs": [],
   "source": [
    "%pip install scanpy\n",
    "%pip install igraph"
   ]
  },
  {
   "cell_type": "code",
   "execution_count": null,
   "id": "f36477e1-41ac-4930-82eb-06494c58aefe",
   "metadata": {},
   "outputs": [],
   "source": []
  },
  {
   "cell_type": "markdown",
   "id": "e17636c3-edd9-450d-9002-c74f6486132b",
   "metadata": {},
   "source": [
    "Generally it is best to not keep data in your code repository, and GitHub cannot sync large files. So let's point our code to the file path on the computer"
   ]
  },
  {
   "cell_type": "code",
   "execution_count": null,
   "id": "89261a9b-28d9-4d22-a34b-a54c2173f3b1",
   "metadata": {},
   "outputs": [],
   "source": []
  },
  {
   "cell_type": "markdown",
   "id": "11dd85a0-c3fc-4174-a86a-065f50393171",
   "metadata": {},
   "source": [
    "First we'll use pandas to load the data. There are two things we'll load:\n",
    "1. The gene counts matrix, which has cells along the rows and genes along the columns\n",
    "2. The cell type array, which has labels for each annotated cell type "
   ]
  },
  {
   "cell_type": "code",
   "execution_count": null,
   "id": "a71a09aa-18e5-4902-bd79-3726100a97b1",
   "metadata": {},
   "outputs": [],
   "source": []
  },
  {
   "cell_type": "markdown",
   "id": "5ba7ed4d-15a7-4a0a-9c14-3eb88a938989",
   "metadata": {},
   "source": [
    "These data have already been annotated. Let's look at the cell types in the annotation"
   ]
  },
  {
   "cell_type": "code",
   "execution_count": null,
   "id": "45f4d605-fe2f-4478-b023-7f00b6ac24ed",
   "metadata": {},
   "outputs": [],
   "source": []
  },
  {
   "cell_type": "markdown",
   "id": "2eea19e3-8575-4d3f-a4e7-71073ba58bf4",
   "metadata": {},
   "source": [
    "This is a big matrix, and scanpy uses a special data type to hold this and run calcuations on it called an Annotated Data (AnnData) object\n",
    "\n",
    "Let's make an AnnData (Annotated Data) object from our two dataframes"
   ]
  },
  {
   "cell_type": "code",
   "execution_count": null,
   "id": "53010e66-20db-4fd7-b0e3-bf8f44f2cca9",
   "metadata": {},
   "outputs": [],
   "source": []
  },
  {
   "cell_type": "markdown",
   "id": "b1a8d6c0-594c-47fb-8cc1-c2c1d48909ce",
   "metadata": {},
   "source": [
    "Let's do some standard preprocessing steps to remove cells that don't have many genes, and genes that don't show up in many cells"
   ]
  },
  {
   "cell_type": "code",
   "execution_count": null,
   "id": "68aef92e-a93f-430d-8ae8-226f1a66ff3f",
   "metadata": {},
   "outputs": [],
   "source": []
  },
  {
   "cell_type": "markdown",
   "id": "2c15e8d9-9ca6-4885-9774-8f8d3de5adf0",
   "metadata": {},
   "source": [
    "Notice that when we do stuff to adata, it modifies the object **in place** and adds new observations to the table\n",
    "\n",
    "The next step is to normalize the read counts within a cell to that cell's median reads. That lets us compare amount of gene expression across cells that maybe just have more mRNA around for whatever reason.\n",
    "\n",
    "Then we'll transform to log(count+1). Log transforming helps make the variances more comparable for genes that may differ in abundance over orders of magnitude. "
   ]
  },
  {
   "cell_type": "code",
   "execution_count": null,
   "id": "02f39834-c40e-48b7-b554-9140d2cfdf8f",
   "metadata": {},
   "outputs": [],
   "source": []
  },
  {
   "cell_type": "markdown",
   "id": "93aff033-e164-48eb-ba63-7229ed803b08",
   "metadata": {},
   "source": [
    "**Feature selection:** Let's add tags to indicate \"highly variable genes,\" to help us focus on genes that are differentially expressed across the cells. We will use this for visualizing lower dimensional representations (like UMAP) and for clustering"
   ]
  },
  {
   "cell_type": "code",
   "execution_count": null,
   "id": "a34e6b3a-6d91-493d-9296-f9e1e85496e4",
   "metadata": {
    "scrolled": true
   },
   "outputs": [],
   "source": []
  },
  {
   "cell_type": "markdown",
   "id": "ff779ff2-1a17-417c-9af1-37b0797be71c",
   "metadata": {},
   "source": [
    "Let's do PCA to get a sense of the dimensionality of the data"
   ]
  },
  {
   "cell_type": "code",
   "execution_count": null,
   "id": "3d05b53a-000b-4043-8ed7-1c17638c714d",
   "metadata": {},
   "outputs": [],
   "source": []
  },
  {
   "cell_type": "markdown",
   "id": "3e520cf5-d904-41c6-b13f-523c47b5468c",
   "metadata": {},
   "source": [
    "Let's look at a lower dimensional representation of the gene expression profiles of these cells using UMAP. We will use pre-annotated cell types to color the points"
   ]
  },
  {
   "cell_type": "code",
   "execution_count": null,
   "id": "7bca9266-4856-43ee-8c87-0d5007e096d6",
   "metadata": {},
   "outputs": [],
   "source": []
  },
  {
   "cell_type": "markdown",
   "id": "dd81e27a-b474-4355-a78f-7ece893772e2",
   "metadata": {},
   "source": [
    "## 2) scRNAseq data - clustering and annotating\n",
    "What if we didn't have cell type annotations? Let's see how we could make our own using clustering and known marker genes\n"
   ]
  },
  {
   "cell_type": "markdown",
   "id": "a40f560a-7abb-41dc-9805-d3127e88d56e",
   "metadata": {},
   "source": [
    "Now let's cluster our cells using the Leiden method. We can control how fine-scale the clustering is with the `resolution` parameter."
   ]
  },
  {
   "cell_type": "code",
   "execution_count": null,
   "id": "8a043383-fa5a-4f03-b74a-9282953b9a45",
   "metadata": {},
   "outputs": [],
   "source": []
  },
  {
   "cell_type": "markdown",
   "id": "ee7134c5-5b27-4199-ac32-27d3d1a55fad",
   "metadata": {},
   "source": [
    "### <span style='color:red;'>EXERCISE 1</span>: Find a good resolution value  (5 min)\n",
    "\n",
    "Play with the `resolution` parameter to find a good value that gives use approximately the right number of clusters. You can iterate on this while trying to assign clusters to cell types\n"
   ]
  },
  {
   "cell_type": "markdown",
   "id": "863675c6-b5ee-42ef-9a1a-a58ccbf3ba94",
   "metadata": {},
   "source": [
    "Suppose we have marker genes for each of the cell types we are interested in. We can tell scanpy about these marker genes using a dictionary like this one:"
   ]
  },
  {
   "cell_type": "code",
   "execution_count": null,
   "id": "8f9b69fd-8908-42b2-98b5-bcd2c5921eb1",
   "metadata": {},
   "outputs": [],
   "source": [
    "marker_genes_dict = {\n",
    "    \"OPC\": [\"PCDH15\", \"MEGF11\", \"LHFPL3\", \"PDGFRA\"],\n",
    "    \"Astrocytes\": [\"SLC14A1\", \"GLIS3\", \"GLI3\", \"CTH\", \"HGF\"],\n",
    "    \"Endothelial\": [\"APOLD1\", \"FLT1\", \"A2M\", \"TM4SF1\"],\n",
    "    \"microglia\": [\"CCL4\", \"GPR183\", \"CD83\", \"CD14\", \"CSF1R\"],\n",
    "    \"neurons\": [\"KCNK1\", \"NELL1\", \"COBL\", \"DCN\", \"DLX2\", \"DLX5\", \"SST\", \"PNOC\"],\n",
    "    \"oligodendrocytes\": [\"DAAM2\", \"ASPA\", \"MAL\", \"MAG\", \"GSN\"],\n",
    "}"
   ]
  },
  {
   "cell_type": "markdown",
   "id": "6e47afd7-55d5-475d-98cc-d43a85646122",
   "metadata": {},
   "source": [
    "Now let's see how our clusters line up to real cell types using a dotplot"
   ]
  },
  {
   "cell_type": "code",
   "execution_count": null,
   "id": "f7bb8b38-a315-4cf4-aa01-bd35d56accb5",
   "metadata": {},
   "outputs": [],
   "source": []
  },
  {
   "cell_type": "code",
   "execution_count": null,
   "id": "39d2b1bb-eb14-4a5b-942a-62855d7f834d",
   "metadata": {},
   "outputs": [],
   "source": [
    "cluster_mapping_dictionary =     {\n",
    "                                  \"0\": \"?\",\n",
    "                                  \"1\": \"Endothelial\",\n",
    "                                  \"2\": \"Astrocytes\",\n",
    "                                  \"3\": \"Neurons\",\n",
    "                                  \"4\": \"Oligodendrocytes\",\n",
    "                                  \"5\": \"OPC\",\n",
    "                                 }"
   ]
  },
  {
   "cell_type": "markdown",
   "id": "c5224f1e-3dac-408f-a5d0-b8ad5bb87ae3",
   "metadata": {},
   "source": [
    "Let's add an observation to the andata object to hold our putative cell types. We'll do this using the pandas .map() function on our dictionary\n",
    "\n",
    "Then we'll look at the UMAP, colored by putative cell type"
   ]
  },
  {
   "cell_type": "code",
   "execution_count": null,
   "id": "bb67182f-8cb2-4c2b-b3f7-54b7c9e251aa",
   "metadata": {},
   "outputs": [],
   "source": []
  },
  {
   "cell_type": "markdown",
   "id": "12ba6393-be5c-44ad-8763-c3d887070f33",
   "metadata": {},
   "source": [
    "You can imagine that for your own data you would want to iterate on clustering, labeling, and identifying marker genes until you are happy with your clusters"
   ]
  },
  {
   "cell_type": "markdown",
   "id": "a3089722-e47f-437e-a749-6e3aeea62ccc",
   "metadata": {},
   "source": [
    "Let's take a rough look at differentially expressed genes among these groups"
   ]
  },
  {
   "cell_type": "code",
   "execution_count": null,
   "id": "1e2349db-7a90-4ccf-a379-6d24626db461",
   "metadata": {},
   "outputs": [],
   "source": []
  },
  {
   "cell_type": "markdown",
   "id": "fde4a69a-747e-4f4c-b678-623410aa1fbe",
   "metadata": {},
   "source": [
    "Let's make volcano plot"
   ]
  },
  {
   "cell_type": "code",
   "execution_count": null,
   "id": "3afed55b-51c5-4a79-99e6-750aea577002",
   "metadata": {},
   "outputs": [],
   "source": []
  },
  {
   "cell_type": "code",
   "execution_count": null,
   "id": "55e63bf7-c5d0-42f7-9c00-0fe161194363",
   "metadata": {},
   "outputs": [],
   "source": []
  },
  {
   "cell_type": "code",
   "execution_count": null,
   "id": "0d2f0a29-180a-45f1-a9b2-8083ad03d8ef",
   "metadata": {},
   "outputs": [],
   "source": []
  },
  {
   "cell_type": "markdown",
   "id": "49aed7a8-309e-4f00-9a12-f66e5bd459e0",
   "metadata": {},
   "source": [
    "# BONUS: time series analysis"
   ]
  },
  {
   "cell_type": "code",
   "execution_count": null,
   "id": "7487d9fb-4ba7-409a-9ba5-5781e2aef825",
   "metadata": {},
   "outputs": [],
   "source": []
  },
  {
   "cell_type": "markdown",
   "id": "41a4ec7a-c416-4dd2-86c9-dfd2d6792fd2",
   "metadata": {},
   "source": [
    "## 3) Time series data -  Examining extracellular spiking data"
   ]
  },
  {
   "cell_type": "code",
   "execution_count": null,
   "id": "d3cc8425-b2fa-4632-a1fa-86fac28bf760",
   "metadata": {},
   "outputs": [],
   "source": []
  },
  {
   "cell_type": "code",
   "execution_count": null,
   "id": "4c092339-8fde-4046-9c81-5242b5718c09",
   "metadata": {},
   "outputs": [],
   "source": []
  },
  {
   "cell_type": "code",
   "execution_count": null,
   "id": "bcf836e9-f77c-49b3-a6d6-97baece26fec",
   "metadata": {
    "scrolled": true
   },
   "outputs": [],
   "source": []
  },
  {
   "cell_type": "markdown",
   "id": "0c56c5a3-d6b6-45d5-9e09-f550aba29e48",
   "metadata": {},
   "source": []
  },
  {
   "cell_type": "markdown",
   "id": "2fbdf8f0-aff2-4969-9ff0-98f966ef1e4d",
   "metadata": {},
   "source": [
    "### Detect spike times\n",
    "Let's say we want to detect the times when the neuron fired an action potential (spike). \n",
    "\n",
    "Steps:\n",
    "1. Filter the signal: remove low-frequency changes in baseline using a **high-pass filter**\n",
    "2. Find the points where the trace goes beyond some threshold value\n",
    "3. Make sure you aren't double counting spikes!\n"
   ]
  },
  {
   "cell_type": "code",
   "execution_count": null,
   "id": "edacf471-0bc9-4c2d-90e7-8c38b2dd281e",
   "metadata": {},
   "outputs": [],
   "source": []
  },
  {
   "cell_type": "code",
   "execution_count": null,
   "id": "79d015e3-e729-45f2-aa7a-bc1a989d5224",
   "metadata": {},
   "outputs": [],
   "source": []
  },
  {
   "cell_type": "code",
   "execution_count": null,
   "id": "5522ab43-081c-4819-b5aa-b544a9011b0a",
   "metadata": {},
   "outputs": [],
   "source": []
  },
  {
   "cell_type": "markdown",
   "id": "ea0e1802-8678-4cb3-89c5-710fce7a57ce",
   "metadata": {},
   "source": [
    "## 4) Spike triggered average of a neuron\n",
    "\n",
    "Reliable spike detection is beyond the scope of this class, so we're going to skip some intervening steps and start with already detected spikes.\n",
    "A common way to represent spike times is a vector that is zero everywhere except the time points where the spike occurred.\n",
    "\n",
    "Let's load some processed spike time data, alongside the visual stimulus that was shown to the neuron. These data are from a neuron in blowfly called H1 that is sensitive to motion in the visual world. The stimulus is reported as the rotational velocity (in degrees/second). Both the stimulus and spike times have a sampling period of 2 msec."
   ]
  },
  {
   "cell_type": "code",
   "execution_count": null,
   "id": "7ad3e728-e042-4c3d-bdc2-68d20b012807",
   "metadata": {},
   "outputs": [],
   "source": []
  },
  {
   "cell_type": "markdown",
   "id": "e54ffc45-3c3f-420a-b784-1a61f6ee495b",
   "metadata": {},
   "source": [
    "`'stim'` is the stimulus\n",
    "\n",
    "`'rho'` is the spike binary vector\n",
    "\n",
    "Let's make some variables to be able to refer to each of these a bit more easily. We'll also make a vector of timestamps based on the knowledge that each time step is 2 msec\n"
   ]
  },
  {
   "cell_type": "code",
   "execution_count": null,
   "id": "1d12101d-9696-439c-9cca-f1304ca95196",
   "metadata": {},
   "outputs": [],
   "source": []
  },
  {
   "cell_type": "markdown",
   "id": "a89c5699-4acb-43f8-a17b-919e6103b96e",
   "metadata": {},
   "source": [
    "Now let's jsut plot a bit of the stim and response trace to see what we're looking at"
   ]
  },
  {
   "cell_type": "code",
   "execution_count": null,
   "id": "53819840-806c-4dc8-8596-e78dda451620",
   "metadata": {},
   "outputs": [],
   "source": []
  },
  {
   "cell_type": "markdown",
   "id": "9e6ea58e-a6de-4a40-add8-666021b40038",
   "metadata": {},
   "source": [
    "We're going to figure out what makes this neuron spike. To do that we will compute the **spike triggered average stimulus** this, as the name implies is the average stimulus that triggers a spike. The strategy is straightforward:\n",
    "1. Define some window of time to look backwards (let's say 300 datapoints, or 600 msec)\n",
    "2. Find all the spike times\n",
    "3. Pull out the stimulus for the 300 datapoints preceding each spike\n",
    "4. Average all the stimuli together"
   ]
  },
  {
   "cell_type": "code",
   "execution_count": null,
   "id": "e956b34e-0fb2-4f10-9fdb-7228800488bc",
   "metadata": {},
   "outputs": [],
   "source": []
  },
  {
   "cell_type": "markdown",
   "id": "e2922a61-0c34-4062-9be5-5ef0b836fc48",
   "metadata": {},
   "source": [
    "Now let's plot our spike triggered average. To visualize it, we need a time vector for the x axis..."
   ]
  },
  {
   "cell_type": "code",
   "execution_count": null,
   "id": "17067e23-5bed-427c-a06f-99ccf62fa881",
   "metadata": {},
   "outputs": [],
   "source": []
  },
  {
   "cell_type": "code",
   "execution_count": null,
   "id": "6f4a755d-ab9a-4251-9629-8364e297c587",
   "metadata": {},
   "outputs": [],
   "source": []
  }
 ],
 "metadata": {
  "kernelspec": {
   "display_name": "abio558",
   "language": "python",
   "name": "abio558"
  },
  "language_info": {
   "codemirror_mode": {
    "name": "ipython",
    "version": 3
   },
   "file_extension": ".py",
   "mimetype": "text/x-python",
   "name": "python",
   "nbconvert_exporter": "python",
   "pygments_lexer": "ipython3",
   "version": "3.13.5"
  }
 },
 "nbformat": 4,
 "nbformat_minor": 5
}
