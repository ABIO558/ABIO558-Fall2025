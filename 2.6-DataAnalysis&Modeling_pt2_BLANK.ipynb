{
 "cells": [
  {
   "cell_type": "markdown",
   "id": "47f50eae-6f41-4b28-9488-b72c216aab4d",
   "metadata": {},
   "source": [
    "# 2.6 - Data analysis and modeling Pt. II\n",
    "\n",
    "### Learning goals for today\n",
    "1. Learn to use visualization tools for large datasets\n",
    "2. Use scipy to perform hypothesis testing\n",
    "3. Use scikit-learn to build, train, and test machine learning models for classification\n",
    "\n",
    "---\n",
    "### How to use this notebook during class\n",
    "- Follow along as we go\n",
    "- Use your **Cards** to indicate where you're at:\n",
    "    - A **🟩Green card** means you are caught up with Max and **ready to help your classmates**\n",
    "    - A **🟥Red card** means you are stuck and need help\n",
    "- <span style='color:red;'>EXERCISE</span> — work on this problem by yourself, or try with a partner if you get stuck\n",
    "---\n"
   ]
  },
  {
   "cell_type": "markdown",
   "id": "920cdde1-1041-4586-9de2-ccbc817e89ea",
   "metadata": {},
   "source": [
    "First let's import some libraries we will use today. Remember if you don't have a library installed you can pip install it with:\n",
    "\n",
    "%pip install *package_name*"
   ]
  },
  {
   "cell_type": "code",
   "execution_count": null,
   "id": "7487d9fb-4ba7-409a-9ba5-5781e2aef825",
   "metadata": {},
   "outputs": [],
   "source": []
  },
  {
   "cell_type": "markdown",
   "id": "c286ee40-f2fe-4d6e-a75b-1fe04567720b",
   "metadata": {},
   "source": [
    "## 1) Visualizing lots of data\n",
    "\n",
    "This data is originally from Peter & Rosemary Grant's book on Darwin's finches: https://search.worldcat.org/title/854285415\n",
    "\n",
    "And I got it from Justin Bois' great programming for biological sciences bootcamp: \n",
    "https://github.com/justinbois/bootcamp\n",
    "\n"
   ]
  },
  {
   "cell_type": "code",
   "execution_count": null,
   "id": "03610185-4e78-43ed-b520-49ade9509275",
   "metadata": {
    "scrolled": true
   },
   "outputs": [],
   "source": []
  },
  {
   "cell_type": "markdown",
   "id": "c6ba02c9-c954-43b2-afba-13f206261ae3",
   "metadata": {},
   "source": [
    "Let's just pull out a subset of the data that we are interested in: for example, data from **fortis** in the year **2012**\n",
    "\n",
    "There are (at least) two ways to do this, the first is the one we have used already:\n",
    "1. The **query()** function\n",
    "2. **.loc boolean indexing**\n",
    "\n",
    "Let's see how each of these works"
   ]
  },
  {
   "cell_type": "code",
   "execution_count": null,
   "id": "ca106c9e-e059-44d1-ae7a-459b4b8ae479",
   "metadata": {},
   "outputs": [],
   "source": []
  },
  {
   "cell_type": "code",
   "execution_count": null,
   "id": "7fcad242-b11b-48d4-9879-0d0bff4782d1",
   "metadata": {},
   "outputs": [],
   "source": []
  },
  {
   "attachments": {},
   "cell_type": "markdown",
   "id": "4e04c851-86dc-495c-9c55-0dac3c2daa37",
   "metadata": {},
   "source": [
    "### <span style='color:red;'>EXERCISE 1</span>: Compute descriptive statistics  (10 min)\n",
    "\n",
    "Compute the mean beak length and depth for each species. There are at least two ways to do it...\n",
    "\n"
   ]
  },
  {
   "cell_type": "code",
   "execution_count": null,
   "id": "5b7a74ec-a5c8-4544-ad8e-39a8bd06347b",
   "metadata": {},
   "outputs": [],
   "source": [
    "# several lines of code\n"
   ]
  },
  {
   "cell_type": "code",
   "execution_count": null,
   "id": "433b3911-6ca4-4a53-8e06-b5e41bfdf700",
   "metadata": {},
   "outputs": [],
   "source": [
    "# one line of code, with groupby() function\n"
   ]
  },
  {
   "cell_type": "markdown",
   "id": "11e3249f-58d3-43fe-8e3f-e22ee1c6880a",
   "metadata": {},
   "source": [
    "### Visualizing beak size data\n",
    "Let's see if we can see a difference between these species using a scatter plot"
   ]
  },
  {
   "cell_type": "code",
   "execution_count": null,
   "id": "81bb36e1-a47d-4d4c-b542-2e52a7737121",
   "metadata": {},
   "outputs": [],
   "source": []
  },
  {
   "cell_type": "markdown",
   "id": "621e2a30-44ed-4815-9fa6-41f61928a474",
   "metadata": {},
   "source": [
    "There are lots of datapoints here, so let's try to visualize the distributions a bit better using a **jointplot**, which shows the points as well as marginal distributions on the sides"
   ]
  },
  {
   "cell_type": "code",
   "execution_count": null,
   "id": "48db7258-79be-428e-8ded-25844f5aba84",
   "metadata": {},
   "outputs": [],
   "source": []
  },
  {
   "cell_type": "markdown",
   "id": "bbc5da34-2926-4cd7-ac2e-06fee242ede7",
   "metadata": {},
   "source": [
    "### <span style='color:red;'>EXERCISE 2</span>: Test the hypothesis that scandens has a longer beak than fortis (10 min)\n",
    "Use scipy.stats.mannwhitneyu() to perform a hypothesis test to compare beak lenght between the two species\n",
    "\n",
    "https://docs.scipy.org/doc/scipy/reference/generated/scipy.stats.mannwhitneyu.html\n",
    "\n",
    "*Hint:\n",
    "It will be cleaner to first assign new variables for the two groups you are comparing, call them\n",
    "\n",
    "`beak_len_fortis`\n",
    "\n",
    "`beak_len_scandens`\n"
   ]
  },
  {
   "cell_type": "code",
   "execution_count": null,
   "id": "e4f3ac42-c17e-4e09-a91b-86fc38422378",
   "metadata": {},
   "outputs": [],
   "source": []
  },
  {
   "cell_type": "markdown",
   "id": "84da2043-1374-4dab-808b-3d266c287bbe",
   "metadata": {},
   "source": [
    "## 2) Machine learning classification\n",
    "\n",
    "The beak size distributions are pretty non-overlapping, which suggests that we should be able to predict the species based on beak measurements alone. One way to do this is with a classifier model.\n",
    "\n",
    "We are going to use a simple, commmon model called a **Support Vector Machine (SVM)**.\n",
    "\n",
    "let's install / import the python machine learning library scikit-learn\n",
    "\n",
    "%pip install scikit-learn\n",
    "\n",
    "\n",
    "sklearn has an implementation of an SVM for classification called a **Support Vector Classifier (SVC)**\n",
    "\n"
   ]
  },
  {
   "cell_type": "code",
   "execution_count": null,
   "id": "78be8d1d-9dad-4c2d-8981-f5f48d2fad61",
   "metadata": {},
   "outputs": [],
   "source": []
  },
  {
   "cell_type": "markdown",
   "id": "74efb364-3a0a-4af1-baf9-03d473c5b37f",
   "metadata": {},
   "source": [
    "### Getting the data ready\n",
    "we need a features matrix, (by convention we'll call it X), which is shape = (n_samples, n_features), for us n_features will be 2\n",
    "and a values matrix (y), which will be length n_samples and just be the species name for each sample"
   ]
  },
  {
   "cell_type": "code",
   "execution_count": null,
   "id": "7c8e4f63-1f1b-4811-a85a-e4ba3f0ad50c",
   "metadata": {},
   "outputs": [],
   "source": []
  },
  {
   "cell_type": "markdown",
   "id": "ba0b86d8-ef9c-4971-a676-90626ba86688",
   "metadata": {},
   "source": [
    "The steps for doing this kind of classification are:\n",
    "1. Split the data into training data and testing data\n",
    "2. Fit the model\n",
    "3. Predict some testing data and evaluate the model's performance"
   ]
  },
  {
   "cell_type": "code",
   "execution_count": null,
   "id": "5297ce37-313c-4d04-92a1-b35b0750d746",
   "metadata": {},
   "outputs": [],
   "source": []
  },
  {
   "cell_type": "markdown",
   "id": "215b6308-89f5-4940-800c-9a6ecec873cc",
   "metadata": {},
   "source": [
    "### Visualizing the decision boundary\n",
    "SVM works by forming a decision boundary in the feature space that splits points into each class. In this case the feature space is just two dimensional, so it's easy to visualize. But in principle this can be a high dimensional feature space"
   ]
  },
  {
   "cell_type": "code",
   "execution_count": null,
   "id": "a76fec36-010d-4f5c-869e-c63c4743716d",
   "metadata": {},
   "outputs": [],
   "source": []
  },
  {
   "cell_type": "code",
   "execution_count": null,
   "id": "12bf1bcb-7546-4d10-9fe4-01870f8bdb75",
   "metadata": {},
   "outputs": [],
   "source": []
  }
 ],
 "metadata": {
  "kernelspec": {
   "display_name": "Python 3 (ipykernel)",
   "language": "python",
   "name": "python3"
  },
  "language_info": {
   "codemirror_mode": {
    "name": "ipython",
    "version": 3
   },
   "file_extension": ".py",
   "mimetype": "text/x-python",
   "name": "python",
   "nbconvert_exporter": "python",
   "pygments_lexer": "ipython3",
   "version": "3.10.18"
  }
 },
 "nbformat": 4,
 "nbformat_minor": 5
}
